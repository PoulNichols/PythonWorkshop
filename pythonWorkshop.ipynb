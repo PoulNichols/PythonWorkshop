{
 "cells": [
  {
   "attachments": {},
   "cell_type": "markdown",
   "metadata": {},
   "source": [
    "Help"
   ]
  },
  {
   "cell_type": "code",
   "execution_count": 3,
   "metadata": {},
   "outputs": [
    {
     "name": "stdout",
     "output_type": "stream",
     "text": [
      "Help on built-in function len in module builtins:\n",
      "\n",
      "len(obj, /)\n",
      "    Return the number of items in a container.\n",
      "\n",
      "Help on built-in function ord in module builtins:\n",
      "\n",
      "ord(c, /)\n",
      "    Return the Unicode code point for a one-character string.\n",
      "\n",
      "Help on built-in function chr in module builtins:\n",
      "\n",
      "chr(i, /)\n",
      "    Return a Unicode string of one character with ordinal i; 0 <= i <= 0x10ffff.\n",
      "\n"
     ]
    }
   ],
   "source": [
    "help(len)\n",
    "help(ord)\n",
    "help(chr)"
   ]
  },
  {
   "attachments": {},
   "cell_type": "markdown",
   "metadata": {},
   "source": [
    "print"
   ]
  },
  {
   "cell_type": "code",
   "execution_count": 32,
   "metadata": {},
   "outputs": [
    {
     "name": "stdout",
     "output_type": "stream",
     "text": [
      "Poul Nichols\n",
      "Poul's World\n",
      "Poul \n",
      "Nichols\n",
      "c:\\doc\\nichols\n",
      "Poul is my name and I would like a big scoop of icream\n",
      "P\n",
      "P\n",
      "l\n",
      "Po\n",
      "Po\n",
      "Poul\n",
      "Poul\n",
      "Tody's date is Jan 09, 23\n",
      "Unicode for newline is  10\n",
      "87\n",
      "Today's date is Jan 8\n",
      "0\n",
      "5\n",
      "This is a test test is True\n"
     ]
    }
   ],
   "source": [
    "print('Poul Nichols')\n",
    "\n",
    "print('Poul\\'s World')\n",
    "\n",
    "print('Poul \\nNichols')\n",
    "\n",
    "print(\"c:\\doc\\\\nichols\")\n",
    "\n",
    "size = 'big'\n",
    "name = 'Poul'\n",
    "\n",
    "print(f\"{name} is my name and I would like a {size} scoop of icream\")\n",
    "\n",
    "print(name[0])\n",
    "print(name[-4])\n",
    "print(name[-1])\n",
    "\n",
    "# [start : number of characters]\n",
    "print(name[0:2])\n",
    "print(name[:2])\n",
    "print(name[0:])\n",
    "print(name[0:10])\n",
    "\n",
    "import datetime\n",
    "\n",
    "today = datetime.datetime.today()\n",
    "\n",
    "print(f\"Tody's date is {today:%b %d, %y}\")\n",
    "\n",
    "newline = ord('\\n')\n",
    "print(f\"Unicode for newline is  {newline}\")\n",
    "\n",
    "print(42 + int('45'))\n",
    "\n",
    "print(\"Today's date is Jan \" + str(8))\n",
    "\n",
    "first = second = third = 0\n",
    "print(second)\n",
    "\n",
    "fourth, fifth, sixth = 4, 5, 6\n",
    "print(fifth)\n",
    "\n",
    "test = 'This is a test'\n",
    "print( test, 'test is', bool(test))\n",
    "\n"
   ]
  },
  {
   "cell_type": "code",
   "execution_count": 42,
   "metadata": {},
   "outputs": [
    {
     "name": "stdout",
     "output_type": "stream",
     "text": [
      "['Ford', 'Volvo', 'BMW', 'Chevy']\n",
      "['Ford', 'Volvo', 'Opel', 'BMW', 'Chevy']\n",
      "['Ford', 'Volvo', 'BMW', 'Chevy', 25, 24, 67]\n",
      "67\n",
      "24\n",
      "116\n",
      "[24, 25, 67]\n",
      "3\n"
     ]
    }
   ],
   "source": [
    "#List []\n",
    "\n",
    "cars = [\"Ford\", \"Volvo\", \"BMW\"]\n",
    "\n",
    "nums = [25, 24, 67]\n",
    "\n",
    "carsNums = [\"Ford\", 45, 33, \"BMW\"]\n",
    "\n",
    "cars.append(\"Chevy\")\n",
    "print(cars)\n",
    "\n",
    "cars.insert(2, \"Opel\")\n",
    "print(cars)\n",
    "\n",
    "cars.remove(\"Opel\")\n",
    "\n",
    "carsNums2 = cars + nums\n",
    "print(carsNums2)\n",
    "\n",
    "print(max(nums))\n",
    "print(min(nums))\n",
    "print(sum(nums))\n",
    "\n",
    "nums.sort()\n",
    "print(nums)\n",
    "\n",
    "print(len(nums))\n",
    "\n",
    "\n",
    "\n",
    "\n"
   ]
  },
  {
   "cell_type": "code",
   "execution_count": 48,
   "metadata": {},
   "outputs": [
    {
     "name": "stdout",
     "output_type": "stream",
     "text": [
      "(21, 35, 2, 48)\n",
      "35\n",
      "{2, 67, 99, 3, 22, 55, 45}\n",
      "{2, 67, 99, 3, 22, 55, 57, 45}\n",
      "{67, 99, 3, 22, 55, 57, 45}\n",
      "{99, 3, 22, 55, 57, 45}\n"
     ]
    }
   ],
   "source": [
    "#Tuples ()\n",
    "\n",
    "tup =(21, 35, 2, 48)\n",
    "\n",
    "print(tup)\n",
    "\n",
    "print(tup[1])\n",
    "\n",
    "#Sets {}\n",
    "s = {55, 22, 67, 3, 2, 99, 45}\n",
    "print(s)\n",
    "s.add(57)\n",
    "print(s)\n",
    "s.pop()\n",
    "print(s)\n",
    "s.remove(67)\n",
    "print(s)\n",
    "\n",
    "\n"
   ]
  },
  {
   "cell_type": "code",
   "execution_count": 60,
   "metadata": {},
   "outputs": [
    {
     "name": "stdout",
     "output_type": "stream",
     "text": [
      "Jack\n",
      "Poul\n",
      "Not Found\n",
      "{13: 'Kim', 22: 'Janet', 14: 'Kathy', 2: 'Salley'}\n",
      "Salley\n",
      "Visual Code\n",
      "['Pycharm', 'Sublime']\n",
      "Intellj\n"
     ]
    }
   ],
   "source": [
    "#Dictionary {key:value}\n",
    "\n",
    "data = {1:'Poul', 2 : 'Jack', 4 : 'Peter'}\n",
    "\n",
    "print(data[2])\n",
    "print(data.get(1))\n",
    "print(data.get(5, 'Not Found'))\n",
    "\n",
    "keys = [13, 22, 14, 2]\n",
    "values = [\"Kim\", \"Janet\", \"Kathy\", \"Salley\"]\n",
    "\n",
    "users = dict(zip(keys, values))\n",
    "\n",
    "print(users)\n",
    "\n",
    "print(users[2])\n",
    "\n",
    "editPrograms = {'JavaScript' : 'Visual Code', 'JAVA' : {'JEE' : 'Visual Code', 'JSE' : 'Intellj'}, 'Python' : ['Pycharm', 'Sublime'] }\n",
    "\n",
    "print(editPrograms['JavaScript'])\n",
    "print(editPrograms['Python'])\n",
    "print(editPrograms['JAVA']['JSE'])\n",
    "\n"
   ]
  },
  {
   "cell_type": "code",
   "execution_count": 66,
   "metadata": {},
   "outputs": [
    {
     "name": "stdout",
     "output_type": "stream",
     "text": [
      "This will over write the text\n",
      "This will over write the textAppending to file\n",
      "\n",
      "This will over write the text\n"
     ]
    }
   ],
   "source": [
    "f = open(\"textFile.txt\", \"r\")\n",
    "print(f.read())\n",
    "f.close()\n",
    "\n",
    "f = open(\"textFile.txt\", \"a\")\n",
    "f.write(\"Appending to file\")\n",
    "f.close()\n",
    "\n",
    "f = open(\"textFile.txt\", \"r\")\n",
    "print(f.read())\n",
    "f.close()\n",
    "\n",
    "f = open(\"textFile.txt\", \"w\")\n",
    "f.write(\"This will over write the text\")\n",
    "f.close()\n",
    "\n",
    "print()\n",
    "\n",
    "f = open(\"textFile.txt\", \"r\")\n",
    "print(f.read())\n",
    "f.close()\n",
    "\n",
    "f = open(\"myFile.txt\", \"x\")\n",
    "f.close\n"
   ]
  },
  {
   "cell_type": "code",
   "execution_count": 69,
   "metadata": {},
   "outputs": [
    {
     "name": "stdout",
     "output_type": "stream",
     "text": [
      "Time to study Python\n",
      "True\n",
      "True\n"
     ]
    }
   ],
   "source": [
    "today = \"Monday\"\n",
    "\n",
    "if today == \"Monday\":\n",
    "    print(\"Time to study Python\")\n",
    "elif today == \"Tuesday\":\n",
    "    print(\"Time to study Java\")\n",
    "else:\n",
    "    print(\"Take a break\")\n",
    "\n",
    "\n",
    "# and  ,  or  , not\n",
    "\n",
    "print( not True == False)\n",
    "print((not True) == False)"
   ]
  },
  {
   "cell_type": "code",
   "execution_count": 70,
   "metadata": {},
   "outputs": [
    {
     "name": "stdout",
     "output_type": "stream",
     "text": [
      "Found it\n"
     ]
    }
   ],
   "source": [
    "import re\n",
    "\n",
    "text = \"Search me now!\"\n",
    "\n",
    "found = re.search(\"m\", text)\n",
    "\n",
    "if found:\n",
    "    print(\"Found it\")\n",
    "else:\n",
    "    print(\"nope\")\n",
    "\n",
    "\n"
   ]
  },
  {
   "cell_type": "code",
   "execution_count": 75,
   "metadata": {},
   "outputs": [
    {
     "name": "stdout",
     "output_type": "stream",
     "text": [
      "1\n",
      "2\n",
      "3\n",
      "4\n",
      "6\n",
      "7\n",
      "8\n",
      "9\n",
      "10\n",
      "11\n",
      "done\n"
     ]
    }
   ],
   "source": [
    "counter = 0;\n",
    "while counter < 11:\n",
    "    counter += 1\n",
    "    if counter == 5:\n",
    "        continue\n",
    "    print(counter)\n",
    "\n",
    "else:\n",
    "    print(\"done\")\n",
    "\n"
   ]
  },
  {
   "cell_type": "code",
   "execution_count": 79,
   "metadata": {},
   "outputs": [
    {
     "name": "stdout",
     "output_type": "stream",
     "text": [
      "P\n",
      "o\n",
      "u\n",
      "l\n",
      "Python\n",
      "Java\n",
      "JS\n",
      "This will over write the text\n"
     ]
    }
   ],
   "source": [
    "for leter in \"Poul\":\n",
    "    print(leter)\n",
    "\n",
    "lang = [\"Python\", \"Java\", \"JS\"]\n",
    "\n",
    "for items in lang:\n",
    "    print(items)\n",
    "\n",
    "f = open(\"textFile.txt\", \"r\")\n",
    "for line in f:\n",
    "    match = re.search('will', line)\n",
    "    if match:\n",
    "        print(match.string)\n",
    "f.close()"
   ]
  },
  {
   "cell_type": "code",
   "execution_count": 83,
   "metadata": {},
   "outputs": [
    {
     "name": "stdout",
     "output_type": "stream",
     "text": [
      "Danger, Will Robinson\n",
      "Danger, Will Robinson\n",
      "Danger, Will Robinson\n"
     ]
    }
   ],
   "source": [
    "def danger():\n",
    "    return \"Danger, Will Robinson\"\n",
    "\n",
    "print(danger())\n",
    "print(danger())\n",
    "print(danger())\n"
   ]
  },
  {
   "cell_type": "code",
   "execution_count": 85,
   "metadata": {},
   "outputs": [
    {
     "name": "stdout",
     "output_type": "stream",
     "text": [
      "15\n",
      "15\n"
     ]
    }
   ],
   "source": [
    "def add_ten(a):\n",
    "    print(a + 10)\n",
    "\n",
    "add_ten(5)\n",
    "\n",
    "x = lambda a: a + 10\n",
    "print(x(5))\n"
   ]
  },
  {
   "cell_type": "code",
   "execution_count": 89,
   "metadata": {},
   "outputs": [
    {
     "name": "stdout",
     "output_type": "stream",
     "text": [
      "Rydel\n",
      "Jassin\n"
     ]
    }
   ],
   "source": [
    "class Elf:\n",
    "    def __init__(self, name, race):\n",
    "        self.name = name\n",
    "        self.race = race\n",
    "\n",
    "test1 = Elf(\"Rydel\", \"Wood\")\n",
    "print(test1.name)\n",
    "\n",
    "test2 = Elf(\"Jassin\", \"Moon\")\n",
    "print(test2.name)\n",
    "\n",
    "\n",
    "\n"
   ]
  }
 ],
 "metadata": {
  "kernelspec": {
   "display_name": "Python 3",
   "language": "python",
   "name": "python3"
  },
  "language_info": {
   "codemirror_mode": {
    "name": "ipython",
    "version": 3
   },
   "file_extension": ".py",
   "mimetype": "text/x-python",
   "name": "python",
   "nbconvert_exporter": "python",
   "pygments_lexer": "ipython3",
   "version": "3.10.4 (main, Dec 19 2022, 20:24:16) [GCC 9.4.0]"
  },
  "orig_nbformat": 4,
  "vscode": {
   "interpreter": {
    "hash": "3ad933181bd8a04b432d3370b9dc3b0662ad032c4dfaa4e4f1596c548f763858"
   }
  }
 },
 "nbformat": 4,
 "nbformat_minor": 2
}
